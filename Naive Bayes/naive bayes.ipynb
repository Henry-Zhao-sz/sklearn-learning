{
 "cells": [
  {
   "cell_type": "code",
   "execution_count": 1,
   "metadata": {},
   "outputs": [
    {
     "name": "stderr",
     "output_type": "stream",
     "text": [
      "<frozen importlib._bootstrap>:219: RuntimeWarning: numpy.ufunc size changed, may indicate binary incompatibility. Expected 192 from C header, got 216 from PyObject\n"
     ]
    }
   ],
   "source": [
    "import numpy as np\n",
    "import matplotlib.pyplot as plt\n",
    "from sklearn.naive_bayes import GaussianNB\n",
    "from sklearn.datasets import load_digits\n",
    "from sklearn.model_selection import train_test_split"
   ]
  },
  {
   "cell_type": "code",
   "execution_count": 2,
   "metadata": {},
   "outputs": [],
   "source": [
    "digits = load_digits()\n",
    "X, y = digits.data, digits.target"
   ]
  },
  {
   "cell_type": "code",
   "execution_count": 3,
   "metadata": {},
   "outputs": [],
   "source": [
    "Xtrain, Xtest, Ytrain, Ytest = train_test_split(X, y, test_size = 0.3, random_state=410)"
   ]
  },
  {
   "cell_type": "code",
   "execution_count": 4,
   "metadata": {},
   "outputs": [],
   "source": [
    "gnb = GaussianNB().fit(Xtrain, Ytrain)"
   ]
  },
  {
   "cell_type": "code",
   "execution_count": 5,
   "metadata": {},
   "outputs": [],
   "source": [
    "acc_score = gnb.score(Xtest, Ytest)"
   ]
  },
  {
   "cell_type": "code",
   "execution_count": 6,
   "metadata": {},
   "outputs": [
    {
     "data": {
      "text/plain": [
       "0.8462962962962963"
      ]
     },
     "execution_count": 6,
     "metadata": {},
     "output_type": "execute_result"
    }
   ],
   "source": [
    "acc_score"
   ]
  },
  {
   "cell_type": "code",
   "execution_count": 7,
   "metadata": {},
   "outputs": [],
   "source": [
    "Y_pred = gnb.predict(Xtest)"
   ]
  },
  {
   "cell_type": "code",
   "execution_count": 8,
   "metadata": {},
   "outputs": [
    {
     "data": {
      "text/plain": [
       "array([7, 0, 7, 0, 3, 3, 6, 7, 3, 8, 7, 6, 1, 8, 6, 2, 7, 8, 7, 6, 7, 7,\n",
       "       6, 8, 8, 6, 6, 1, 4, 4, 6, 4, 1, 3, 2, 3, 7, 8, 5, 2, 4, 7, 9, 6,\n",
       "       8, 3, 3, 1, 5, 6, 8, 5, 5, 8, 7, 5, 6, 9, 7, 1, 5, 8, 7, 5, 2, 0,\n",
       "       5, 3, 9, 7, 6, 8, 5, 8, 8, 1, 0, 7, 8, 4, 2, 7, 3, 0, 2, 5, 9, 4,\n",
       "       0, 3, 9, 8, 8, 1, 5, 0, 0, 5, 6, 9, 8, 9, 8, 0, 1, 3, 7, 7, 4, 9,\n",
       "       9, 9, 6, 1, 1, 0, 7, 1, 8, 3, 8, 6, 4, 9, 8, 6, 4, 4, 0, 5, 2, 9,\n",
       "       3, 8, 7, 0, 7, 0, 8, 8, 1, 7, 1, 9, 0, 7, 4, 5, 9, 4, 7, 2, 1, 8,\n",
       "       8, 3, 3, 7, 2, 6, 8, 5, 5, 7, 8, 1, 8, 4, 3, 8, 1, 8, 3, 4, 0, 9,\n",
       "       5, 6, 2, 1, 5, 1, 3, 6, 9, 2, 9, 5, 5, 9, 7, 9, 9, 0, 6, 5, 5, 1,\n",
       "       2, 2, 3, 3, 5, 5, 0, 6, 1, 5, 7, 1, 4, 8, 9, 5, 8, 3, 6, 4, 4, 0,\n",
       "       3, 0, 9, 1, 3, 5, 0, 8, 3, 6, 3, 6, 3, 8, 6, 7, 6, 3, 6, 5, 8, 5,\n",
       "       7, 9, 7, 6, 6, 5, 3, 1, 7, 9, 6, 0, 2, 4, 5, 8, 9, 2, 0, 0, 5, 4,\n",
       "       1, 7, 9, 6, 1, 5, 6, 6, 6, 7, 6, 4, 8, 9, 4, 2, 1, 8, 8, 7, 8, 0,\n",
       "       7, 9, 4, 7, 9, 7, 3, 1, 8, 9, 7, 2, 8, 9, 0, 4, 3, 8, 0, 8, 1, 3,\n",
       "       9, 7, 4, 3, 5, 6, 4, 8, 7, 7, 0, 2, 0, 0, 6, 3, 8, 7, 8, 9, 8, 4,\n",
       "       0, 0, 5, 8, 8, 9, 1, 1, 8, 8, 8, 5, 7, 8, 3, 1, 5, 3, 6, 9, 6, 3,\n",
       "       8, 5, 1, 3, 7, 4, 9, 8, 3, 4, 8, 6, 5, 7, 0, 6, 0, 9, 5, 3, 8, 6,\n",
       "       0, 5, 7, 4, 3, 9, 0, 2, 7, 3, 3, 0, 5, 7, 5, 7, 8, 8, 2, 7, 0, 7,\n",
       "       8, 0, 3, 0, 7, 4, 2, 6, 8, 0, 9, 6, 8, 3, 1, 9, 8, 8, 8, 8, 3, 4,\n",
       "       2, 4, 6, 8, 0, 3, 2, 0, 5, 7, 4, 7, 4, 8, 0, 5, 3, 3, 6, 4, 7, 7,\n",
       "       0, 9, 4, 8, 7, 6, 6, 1, 7, 5, 7, 6, 8, 0, 0, 4, 7, 0, 3, 4, 1, 7,\n",
       "       2, 7, 8, 7, 8, 8, 3, 4, 5, 5, 7, 4, 8, 9, 8, 4, 1, 3, 0, 8, 8, 5,\n",
       "       8, 2, 7, 0, 9, 7, 3, 5, 1, 7, 5, 7, 4, 7, 8, 3, 0, 6, 6, 4, 8, 8,\n",
       "       6, 9, 6, 9, 6, 5, 8, 6, 7, 0, 8, 0, 5, 0, 7, 6, 1, 7, 8, 8, 3, 6,\n",
       "       3, 7, 9, 7, 7, 0, 8, 5, 0, 4, 1, 7])"
      ]
     },
     "execution_count": 8,
     "metadata": {},
     "output_type": "execute_result"
    }
   ],
   "source": [
    "Y_pred"
   ]
  },
  {
   "cell_type": "code",
   "execution_count": 9,
   "metadata": {},
   "outputs": [],
   "source": [
    "prob = gnb.predict_proba(Xtest)"
   ]
  },
  {
   "cell_type": "code",
   "execution_count": 10,
   "metadata": {},
   "outputs": [
    {
     "data": {
      "text/plain": [
       "(540, 10)"
      ]
     },
     "execution_count": 10,
     "metadata": {},
     "output_type": "execute_result"
    }
   ],
   "source": [
    "prob.shape#每个样本对应的十个标签的概率"
   ]
  },
  {
   "cell_type": "code",
   "execution_count": 12,
   "metadata": {},
   "outputs": [],
   "source": [
    "from sklearn.metrics import confusion_matrix as CM"
   ]
  },
  {
   "cell_type": "code",
   "execution_count": 14,
   "metadata": {},
   "outputs": [
    {
     "data": {
      "text/plain": [
       "array([[55,  0,  0,  0,  0,  0,  0,  0,  0,  1],\n",
       "       [ 0, 33,  0,  0,  1,  0,  1,  1,  3,  2],\n",
       "       [ 0,  2, 25,  0,  0,  1,  1,  0, 21,  0],\n",
       "       [ 0,  1,  0, 51,  0,  2,  0,  2,  5,  1],\n",
       "       [ 0,  0,  0,  0, 39,  0,  1,  5,  1,  0],\n",
       "       [ 0,  0,  0,  1,  0, 49,  1,  2,  2,  1],\n",
       "       [ 0,  0,  0,  0,  0,  1, 52,  0,  0,  0],\n",
       "       [ 0,  0,  0,  0,  0,  0,  0, 61,  0,  0],\n",
       "       [ 0,  1,  0,  1,  0,  0,  0,  2, 51,  0],\n",
       "       [ 0,  2,  0,  2,  4,  1,  1,  4,  5, 41]], dtype=int64)"
      ]
     },
     "execution_count": 14,
     "metadata": {},
     "output_type": "execute_result"
    }
   ],
   "source": [
    "CM(Ytest, Y_pred)#使用混淆矩阵查看贝叶斯的分类效果"
   ]
  },
  {
   "cell_type": "code",
   "execution_count": null,
   "metadata": {},
   "outputs": [],
   "source": []
  }
 ],
 "metadata": {
  "kernelspec": {
   "display_name": "Python 3",
   "language": "python",
   "name": "python3"
  },
  "language_info": {
   "codemirror_mode": {
    "name": "ipython",
    "version": 3
   },
   "file_extension": ".py",
   "mimetype": "text/x-python",
   "name": "python",
   "nbconvert_exporter": "python",
   "pygments_lexer": "ipython3",
   "version": "3.8.5"
  }
 },
 "nbformat": 4,
 "nbformat_minor": 4
}
